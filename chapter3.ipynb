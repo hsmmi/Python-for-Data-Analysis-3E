{
 "cells": [
  {
   "cell_type": "markdown",
   "metadata": {},
   "source": [
    "## Issues"
   ]
  },
  {
   "cell_type": "markdown",
   "metadata": {},
   "source": [
    "A common use of variable unpacking is iterating over sequences of tuples or lists:"
   ]
  },
  {
   "cell_type": "code",
   "execution_count": 1,
   "metadata": {},
   "outputs": [
    {
     "name": "stdout",
     "output_type": "stream",
     "text": [
      "(1, 2, 3)\n",
      "(4, 5, 6)\n",
      "(7, 8, 9)\n",
      "a=1, b=2, c=3\n",
      "a=4, b=5, c=6\n",
      "a=7, b=8, c=9\n"
     ]
    }
   ],
   "source": [
    "seq = [(1, 2, 3), (4, 5, 6), (7, 8, 9)]\n",
    "\n",
    "for element in seq:\n",
    "    print(element)\n",
    "\n",
    "for a, b, c in seq:\n",
    "    print(f'a={a}, b={b}, c={c}')\n",
    "\n",
    "element = (1, 2, 3)\n",
    "a, b, c = element\n",
    "print(f'a={a}, b={b}, c={c}')\n"
   ]
  },
  {
   "cell_type": "markdown",
   "metadata": {},
   "source": [
    "---"
   ]
  },
  {
   "cell_type": "markdown",
   "metadata": {},
   "source": [
    "# W3school? x\n",
    "# [geekforgeeks](https://www.geeksforgeeks.org/default-arguments-in-python/) √"
   ]
  },
  {
   "cell_type": "markdown",
   "metadata": {},
   "source": [
    "### Default values\n",
    "\n",
    "It’s common to have logic like:\n",
    "\n",
    "``` python\n",
    "if key in some_dict:\n",
    "    value = some_dict[key]\n",
    "else:\n",
    "    value = default_value\n",
    "```\n",
    "\n",
    "Thus, the dictionary methods get and pop can take a default value to be returned, so that the above if-else block can be written simply as:\n",
    "\n",
    "``` python\n",
    "value = some_dict.get(key, default_value)\n",
    "```\n",
    "\n",
    "get by default will return None if the key is not present, while pop will raise an exception. With setting values, it may be that the values in a dictionary are another kind of collection, like a list. For example, you could imagine categorizing a list of words by their first letters as a dictionary of lists:\n",
    "\n",
    "``` python\n",
    "In [108]: words = [\"apple\", \"bat\", \"bar\", \"atom\", \"book\"]\n",
    "\n",
    "In [109]: by_letter = {}\n",
    "\n",
    "In [110]: for word in words:\n",
    "   .....:     letter = word[0]\n",
    "   .....:     if letter not in by_letter:\n",
    "   .....:         by_letter[letter] = [word]\n",
    "   .....:     else:\n",
    "   .....:         by_letter[letter].append(word)\n",
    "   .....:\n",
    "\n",
    "In [111]: by_letter\n",
    "Out[111]: {'a': ['apple', 'atom'], 'b': ['bat', 'bar', 'book']}\n",
    "```\n",
    "\n",
    "The setdefault dictionary method can be used to simplify this workflow. The preceding for loop can be rewritten as:\n",
    "\n",
    "``` python\n",
    "In [112]: by_letter = {}\n",
    "\n",
    "In [113]: for word in words:\n",
    "   .....:     letter = word[0]\n",
    "   .....:     by_letter.setdefault(letter, []).append(word)\n",
    "   .....:\n",
    "\n",
    "In [114]: by_letter\n",
    "Out[114]: {'a': ['apple', 'atom'], 'b': ['bat', 'bar', 'book']}\n",
    "```"
   ]
  },
  {
   "cell_type": "code",
   "execution_count": 3,
   "metadata": {},
   "outputs": [
    {
     "name": "stdout",
     "output_type": "stream",
     "text": [
      "3\n",
      "None\n",
      "4\n",
      "4\n",
      "key=a, value=1\n",
      "key=b, value=2\n",
      "key=c, value=3\n",
      "key=d, value=None\n",
      "key=e, value=4\n"
     ]
    }
   ],
   "source": [
    "dict = {'a': 1, 'b': 2, 'c': 3}\n",
    "\n",
    "print(dict.setdefault('c'))\n",
    "\n",
    "print(dict.setdefault('d'))\n",
    "\n",
    "print(dict.setdefault('e', 4))\n",
    "\n",
    "print(dict.setdefault('e', 5))\n",
    "\n",
    "for key, value in dict.items():\n",
    "    print(f'key={key}, value={value}')"
   ]
  },
  {
   "cell_type": "code",
   "execution_count": 5,
   "metadata": {},
   "outputs": [
    {
     "name": "stdout",
     "output_type": "stream",
     "text": [
      "{'a': ['apple', 'atom'], 'b': ['bat', 'bar', 'book']}\n",
      "{'a': ['apple', 'atom'], 'b': ['bat', 'bar', 'book']}\n"
     ]
    }
   ],
   "source": [
    "words = [\"apple\", \"bat\", \"bar\", \"atom\", \"book\"]\n",
    "\n",
    "by_letter = {}\n",
    "\n",
    "for word in words:\n",
    "    letter = word[0]\n",
    "    if letter not in by_letter:\n",
    "        by_letter[letter] = [word]\n",
    "    else:\n",
    "        by_letter[letter].append(word)\n",
    "\n",
    "print(by_letter)\n",
    "\n",
    "\n",
    "by_letter = {}\n",
    "for word in words:\n",
    "    letter = word[0]\n",
    "    by_letter.setdefault(letter, []).append(word)\n",
    "print(by_letter)\n"
   ]
  },
  {
   "cell_type": "markdown",
   "metadata": {},
   "source": [
    "### Generator expressions\n",
    "\n",
    "Another way to make a generator is by using a *generator expression*. This is a generator analogue to list, dictionary, and set comprehensions. To create one, enclose what would otherwise be a list comprehension within parentheses **instead of brackets**:\n",
    "\n",
    "\n",
    "``` python \n",
    "In [216]: gen = (x ** 2 for x in range(100))\n",
    "\n",
    "In [217]: gen\n",
    "Out[217]: <generator object <genexpr> at 0x7f1555306880>\n",
    "```\n",
    "\n",
    "This is equivalent to the following more verbose generator:\n",
    "\n",
    "\n",
    "``` python \n",
    "def _make_gen():\n",
    "    for x in range(100):\n",
    "        yield x ** 2\n",
    "gen = _make_gen()\n",
    "```\n",
    "\n",
    "Generator expressions can be used instead of list comprehensions as function arguments in some cases:\n",
    "\n",
    "\n",
    "``` python \n",
    "In [218]: sum(x ** 2 for x in range(100))\n",
    "Out[218]: 328350\n",
    "\n",
    "In [219]: dict((i, i ** 2) for i in range(5))\n",
    "Out[219]: {0: 0, 1: 1, 2: 4, 3: 9, 4: 16}\n",
    "```\n",
    "\n",
    "Depending on the number of elements produced by the comprehension expression, the generator version can sometimes be meaningfully faster."
   ]
  },
  {
   "cell_type": "code",
   "execution_count": null,
   "metadata": {},
   "outputs": [],
   "source": [
    "dict = ((i, i ** 2) for i in range(1, 6))\n",
    "for key, value in dict:\n",
    "    print(f'key={key}, value={value}')"
   ]
  },
  {
   "cell_type": "code",
   "execution_count": 13,
   "metadata": {},
   "outputs": [
    {
     "name": "stdout",
     "output_type": "stream",
     "text": [
      "[1, 2, 3, 4, 5]\n",
      "<generator object <genexpr> at 0x7fccb06970d0>\n",
      "1 2 3 4 5 \n",
      "1 2 3 4 5 \n",
      "1 2 3 4 5 \n",
      "1 2 3 4 5 \n",
      "range(1, 6)\n"
     ]
    }
   ],
   "source": [
    "# List comprehension\n",
    "my_list = [i for i in range(1, 6)]\n",
    "\n",
    "print(my_list)\n",
    "\n",
    "# Generator expression\n",
    "my_gen = (i for i in range(1, 6))\n",
    "\n",
    "print(my_gen)\n",
    "\n",
    "# What is a generator?\n",
    "# A generator is a special type of iterable that is used to generate a sequence of values.\n",
    "for i in range(1, 6):\n",
    "    print(i, end=' ')\n",
    "print()\n",
    "\n",
    "for i in (i for i in range(1, 6)):\n",
    "    print(i, end=' ')\n",
    "print()\n",
    "\n",
    "for i in my_gen:\n",
    "    print(i, end=' ')\n",
    "print()\n",
    "\n",
    "def my_gen():\n",
    "    for i in range(1, 6):\n",
    "        yield i\n",
    "\n",
    "for i in my_gen():\n",
    "    print(i, end=' ')\n",
    "print()\n",
    "\n",
    "print(range(1, 6))"
   ]
  },
  {
   "cell_type": "markdown",
   "metadata": {},
   "source": [
    "### Itertools module\n",
    "\n",
    "The standard library itertools module has a collection of generators for many common data algorithms. For example, groupby takes any sequence and a function, grouping consecutive elements in the sequence by return value of the function. Here’s an example:\n",
    "\n",
    "\n",
    "``` python \n",
    "In [220]: import itertools\n",
    "\n",
    "In [221]: def first_letter(x):\n",
    "   .....:     return x[0]\n",
    "\n",
    "In [222]: names = [\"Alan\", \"Adam\", \"Wes\", \"Will\", \"Albert\", \"Steven\"]\n",
    "\n",
    "In [223]: for letter, names in itertools.groupby(names, first_letter):\n",
    "   .....:     print(letter, list(names)) # names is a generator\n",
    "A ['Alan', 'Adam']\n",
    "W ['Wes', 'Will']\n",
    "A ['Albert']\n",
    "S ['Steven']\n",
    "```\n",
    "\n",
    "[itertools — Functions creating iterators for efficient looping](https://docs.python.org/3/library/itertools.html#itertools)"
   ]
  },
  {
   "cell_type": "code",
   "execution_count": 2,
   "metadata": {},
   "outputs": [
    {
     "name": "stdout",
     "output_type": "stream",
     "text": [
      "A ['Alan', 'Adam']\n",
      "W ['Wes', 'Will']\n",
      "A ['Albert']\n",
      "S ['Steven']\n"
     ]
    },
    {
     "name": "stdout",
     "output_type": "stream",
     "text": [
      "\u001b[0;31mInit signature:\u001b[0m \u001b[0mitertools\u001b[0m\u001b[0;34m.\u001b[0m\u001b[0mgroupby\u001b[0m\u001b[0;34m(\u001b[0m\u001b[0miterable\u001b[0m\u001b[0;34m,\u001b[0m \u001b[0mkey\u001b[0m\u001b[0;34m=\u001b[0m\u001b[0;32mNone\u001b[0m\u001b[0;34m)\u001b[0m\u001b[0;34m\u001b[0m\u001b[0;34m\u001b[0m\u001b[0m\n",
      "\u001b[0;31mDocstring:\u001b[0m     \n",
      "make an iterator that returns consecutive keys and groups from the iterable\n",
      "\n",
      "iterable\n",
      "  Elements to divide into groups according to the key function.\n",
      "key\n",
      "  A function for computing the group category for each element.\n",
      "  If the key function is not specified or is None, the element itself\n",
      "  is used for grouping.\n",
      "\u001b[0;31mType:\u001b[0m           type\n",
      "\u001b[0;31mSubclasses:\u001b[0m     \n"
     ]
    }
   ],
   "source": [
    "import itertools\n",
    "\n",
    "def first_letter(x):\n",
    "    return x[0]\n",
    "\n",
    "names = [\"Alan\", \"Adam\", \"Wes\", \"Will\", \"Albert\", \"Steven\"]\n",
    "\n",
    "for letter, names in itertools.groupby(names, first_letter):\n",
    "    print(letter, list(names)) # names is a generator\n",
    "\n",
    "\n",
    "itertools.groupby?"
   ]
  },
  {
   "cell_type": "markdown",
   "metadata": {},
   "source": [
    "### Bytes and Unicode with Files\n",
    "\n",
    "The default behavior for Python files (whether readable or writable) is text mode, which means that you intend to work with Python strings (i.e., Unicode). This contrasts with binary mode, which you can obtain by appending b onto the file mode. Revisiting the file (which contains non-ASCII characters with UTF-8 encoding) from the previous section, we have:\n",
    "\n",
    "\n",
    "``` python\n",
    "In [258]: with open(path) as f:\n",
    "   .....:     chars = f.read(10)\n",
    "\n",
    "In [259]: chars\n",
    "Out[259]: 'Sueña el r'\n",
    "\n",
    "In [260]: len(chars)\n",
    "Out[260]: 10\n",
    "```\n",
    "\n",
    "UTF-8 is a variable-length Unicode encoding, so when I requested some number of characters from the file, Python reads enough bytes (which could be as few as 10 or as many as 40 bytes) from the file to decode that many characters. If I open the file in \"rb\" mode instead, read requests that exact numbers of bytes:\n",
    "\n",
    "\n",
    "``` python\n",
    "In [261]: with open(path, mode=\"rb\") as f:\n",
    "   .....:     data = f.read(10)\n",
    "\n",
    "In [262]: data\n",
    "Out[262]: b'Sue\\xc3\\xb1a el '\n",
    "```\n",
    "\n",
    "Depending on the text encoding, you may be able to decode the bytes to a str object yourself, but only if each of the encoded Unicode characters is fully formed:\n",
    "\n",
    "\n",
    "``` python\n",
    "In [263]: data.decode(\"utf-8\")\n",
    "Out[263]: 'Sueña el '\n",
    "\n",
    "In [264]: data[:4].decode(\"utf-8\")\n",
    "---------------------------------------------------------------------------\n",
    "UnicodeDecodeError                        Traceback (most recent call last)\n",
    "<ipython-input-264-846a5c2fed34> in <module>\n",
    "----> 1 data[:4].decode(\"utf-8\")\n",
    "UnicodeDecodeError: 'utf-8' codec can't decode byte 0xc3 in position 3: unexpecte\n",
    "d end of data\n",
    "```\n",
    "\n",
    "Text mode, combined with the encoding option of open, provides a convenient way to convert from one Unicode encoding to another:\n",
    "\n",
    "\n",
    "``` python\n",
    "In [265]: sink_path = \"sink.txt\"\n",
    "\n",
    "In [266]: with open(path) as source:\n",
    "   .....:     with open(sink_path, \"x\", encoding=\"iso-8859-1\") as sink:\n",
    "   .....:         sink.write(source.read())\n",
    "\n",
    "In [267]: with open(sink_path, encoding=\"iso-8859-1\") as f:\n",
    "   .....:     print(f.read(10))\n",
    "Sueña el r\n",
    "```\n",
    "\n",
    "Beware using seek when opening files in any mode other than binary. If the file position falls in the middle of the bytes defining a Unicode character, then subsequent reads will result in an error:\n",
    "\n",
    "\n",
    "``` python\n",
    "In [269]: f = open(path, encoding='utf-8')\n",
    "\n",
    "In [270]: f.read(5)\n",
    "Out[270]: 'Sueña'\n",
    "\n",
    "In [271]: f.seek(4)\n",
    "Out[271]: 4\n",
    "\n",
    "In [272]: f.read(1)\n",
    "---------------------------------------------------------------------------\n",
    "UnicodeDecodeError                        Traceback (most recent call last)\n",
    "<ipython-input-272-5a354f952aa4> in <module>\n",
    "----> 1 f.read(1)\n",
    "~/miniconda/envs/book-env/lib/python3.10/codecs.py in decode(self, input, final)\n",
    "    320         # decode input (taking the buffer into account)\n",
    "    321         data = self.buffer + input\n",
    "--> 322         (result, consumed) = self._buffer_decode(data, self.errors, final\n",
    ")\n",
    "    323         # keep undecoded input until the next call\n",
    "    324         self.buffer = data[consumed:]\n",
    "UnicodeDecodeError: 'utf-8' codec can't decode byte 0xb1 in position 0: invalid s\n",
    "tart byte\n",
    "\n",
    "In [273]: f.close()\n",
    "```"
   ]
  }
 ],
 "metadata": {
  "kernelspec": {
   "display_name": "Python 3.10.4 ('my3104')",
   "language": "python",
   "name": "python3"
  },
  "language_info": {
   "codemirror_mode": {
    "name": "ipython",
    "version": 3
   },
   "file_extension": ".py",
   "mimetype": "text/x-python",
   "name": "python",
   "nbconvert_exporter": "python",
   "pygments_lexer": "ipython3",
   "version": "3.10.4"
  },
  "orig_nbformat": 4,
  "vscode": {
   "interpreter": {
    "hash": "d60a60df41804041156749964ad182373a1ea9f03165322dcfcbbe937705ae63"
   }
  }
 },
 "nbformat": 4,
 "nbformat_minor": 2
}
