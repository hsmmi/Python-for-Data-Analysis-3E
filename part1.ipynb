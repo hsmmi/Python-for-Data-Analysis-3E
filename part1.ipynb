{
 "cells": [
  {
   "cell_type": "markdown",
   "metadata": {},
   "source": [
    "# Part 1: Clean code + VS code (In my idea)"
   ]
  },
  {
   "cell_type": "markdown",
   "metadata": {},
   "source": [
    "## What we need to learn\n",
    "\n",
    "- VS Code\n",
    "- Environment\n",
    "- Formatter and linter (in python and Juptyer)"
   ]
  },
  {
   "cell_type": "markdown",
   "metadata": {},
   "source": [
    "### Why VS Code?\n",
    "\n",
    "[Install VS Code](https://code.visualstudio.com/download)\n",
    "\n",
    "Visual Studio Code combines the simplicity of a source code editor with powerful developer tooling, like IntelliSense code completion and debugging.\n",
    "\n",
    "First and foremost, it is an editor that gets out of your way. The delightfully frictionless edit-build-debug cycle means less time fiddling with your environment, and more time executing on your ideas."
   ]
  },
  {
   "cell_type": "markdown",
   "metadata": {},
   "source": [
    "### Environment\n",
    "\n",
    "A virtual environment is a [Python environment](https://docs.python.org/3/library/venv.html) such that the Python interpreter, libraries and scripts installed into it are isolated from those installed in other virtual environments, and (by default) any libraries installed in a “system” Python, i.e., one which is installed as part of your operating system.\n",
    "\n",
    "[Conda](https://docs.conda.io/projects/conda/en/latest/user-guide/getting-started.html) is an open source package management system and environment management system."
   ]
  },
  {
   "cell_type": "markdown",
   "metadata": {},
   "source": [
    "### Code Quality\n",
    "\n",
    "[Python Code Quality: Tools & Best Practices](https://realpython.com/python-code-quality/) (analyze and compare tools)\n",
    "\n",
    "- It does what it is supposed to do.\n",
    "- It does not contain defects or problems.\n",
    "- It is easy to read, maintain, and extend.\n",
    "\n",
    "[Linting Python in Visual Studio Code](https://code.visualstudio.com/docs/python/linting)\n",
    "\n",
    "What is a linter?\n",
    "\n",
    "Linting is the automated checking of your source code for programmatic and stylistic errors. This is done by using a lint tool (otherwise known as linter). A lint tool is a basic static code analyzer."
   ]
  }
 ],
 "metadata": {
  "kernelspec": {
   "display_name": "Python 3.10.4 ('my3104')",
   "language": "python",
   "name": "python3"
  },
  "language_info": {
   "name": "python",
   "version": "3.10.4"
  },
  "orig_nbformat": 4,
  "vscode": {
   "interpreter": {
    "hash": "d60a60df41804041156749964ad182373a1ea9f03165322dcfcbbe937705ae63"
   }
  }
 },
 "nbformat": 4,
 "nbformat_minor": 2
}
