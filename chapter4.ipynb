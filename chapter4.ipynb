{
 "cells": [
  {
   "cell_type": "code",
   "execution_count": null,
   "metadata": {},
   "outputs": [],
   "source": [
    "# Chapter 4: NumPy Basics: Arrays and Vectorized Computation"
   ]
  },
  {
   "cell_type": "markdown",
   "metadata": {},
   "source": [
    "## Outline\n",
    "\n",
    "Here are some of the things you'll find in NumPy:\n",
    "\n",
    "- ndarray, an efficient multidimensional array providing fast array-oriented arithmetic operations and flexible broadcasting capabilities.\n",
    "\n",
    "- Mathematical functions for fast operations on entire arrays of data without having to write loops.\n",
    "\n",
    "- Tools for reading/writing array data to disk and working with memory-mapped files.\n",
    "\n",
    "- Linear algebra, random number generation, and Fourier transform capabilities.\n",
    "\n",
    "- A C API for connecting NumPy with libraries written in C, C++, or FORTRAN."
   ]
  },
  {
   "cell_type": "markdown",
   "metadata": {},
   "source": [
    "For most data analysis applications, the main areas of functionality I’ll focus on are:\n",
    "\n",
    "- Fast array-based operations for data munging and cleaning, subsetting and filtering, transformation, and any other kinds of computations\n",
    "\n",
    "- Common array algorithms like sorting, unique, and set operations\n",
    "\n",
    "- Efficient descriptive statistics and aggregating/summarizing data\n",
    "\n",
    "- Data alignment and relational data manipulations for merging and joining together heterogeneous datasets\n",
    "\n",
    "- Expressing conditional logic as array expressions instead of loops with if-elif-else branches\n",
    "\n",
    "- Group-wise data manipulations (aggregation, transformation, function application)"
   ]
  },
  {
   "cell_type": "markdown",
   "metadata": {},
   "source": [
    "One of the reasons NumPy is so important for numerical computations in Python is because it is designed for efficiency on large arrays of data. There are a number of reasons for this:\n",
    "\n",
    "\n",
    "- NumPy internally stores data in a contiguous block of memory, independent of other built-in Python objects. NumPy's library of algorithms written in the C language can operate on this memory without any type checking or other overhead. NumPy arrays also use much less memory than built-in Python sequences.\n",
    "\n",
    "- NumPy operations perform complex computations on entire arrays without the need for Python for loops, which can be slow for large sequences. NumPy is faster than regular Python code because its C-based algorithms avoid overhead present with regular interpreted Python code."
   ]
  },
  {
   "cell_type": "markdown",
   "metadata": {},
   "source": [
    "## 4.1 The NumPy ndarray: A Multidimensional Array Object"
   ]
  },
  {
   "cell_type": "code",
   "execution_count": 1,
   "metadata": {},
   "outputs": [
    {
     "name": "stdout",
     "output_type": "stream",
     "text": [
      "arr_3d[0] == arr_2d\n"
     ]
    }
   ],
   "source": [
    "# What is array?\n",
    "# An array is a multidimensional object that can store a collection of elements of the same type.\n",
    "arr_1d = [1, 2]\n",
    "arr_2d = [[1, 2], [3, 4]]\n",
    "arr_3d = [[[1, 2], [3, 4]], [[5, 6], [7, 8]]]\n",
    "if arr_3d[0] == arr_2d:\n",
    "    print(\"arr_3d[0] == arr_2d\")"
   ]
  },
  {
   "cell_type": "code",
   "execution_count": 9,
   "metadata": {},
   "outputs": [
    {
     "name": "stdout",
     "output_type": "stream",
     "text": [
      "Type is <class 'numpy.ndarray'>\n",
      "array is\n",
      "[[1 2]\n",
      " [3 4]]\n",
      "Shape is (2, 2)\n",
      "Dtype is int64\n",
      "Min is [1 2]\n",
      "Min is [1 3]\n",
      "pause\n"
     ]
    }
   ],
   "source": [
    "import numpy as np\n",
    "\n",
    "# ndarray\n",
    "# An ndarray is a multidimensional object that can store a collection of elements of the same type.\n",
    "my_ndarr = np.array(arr_2d)\n",
    "print(f'Type is {type(my_ndarr)}')\n",
    "print(f'array is\\n{my_ndarr}')\n",
    "print(f'Shape is {my_ndarr.shape}')\n",
    "print(f'Dtype is {my_ndarr.dtype}')\n",
    "\n",
    "my_ndarr\n",
    "print(f'Min is {my_ndarr.min(axis=0)}')\n",
    "print(f'Min is {my_ndarr.min(axis=1)}')\n",
    "print('pause')\n"
   ]
  },
  {
   "cell_type": "code",
   "execution_count": 24,
   "metadata": {},
   "outputs": [
    {
     "name": "stdout",
     "output_type": "stream",
     "text": [
      "type arr is <class 'numpy.ndarray'>\n",
      "arr is\n",
      "[ 1  3  5  7  9 11]\n",
      "arr zeros is\n",
      "[0. 0. 0. 0. 0.]\n",
      "arr zeros int is\n",
      "[0 0 0 0 0]\n",
      "arr zeros like [ 1  3  5  7  9 11] is\n",
      "[0 0 0 0 0 0]\n",
      "arr full is\n",
      "[10 10 10 10 10]\n",
      "arr full 3d is\n",
      "[[[10 10]\n",
      "  [10 10]\n",
      "  [10 10]]\n",
      "\n",
      " [[10 10]\n",
      "  [10 10]\n",
      "  [10 10]]\n",
      "\n",
      " [[10 10]\n",
      "  [10 10]\n",
      "  [10 10]]\n",
      "\n",
      " [[10 10]\n",
      "  [10 10]\n",
      "  [10 10]]]\n",
      "arr full 3d dumb is\n",
      "[[[10. 10.]\n",
      "  [10. 10.]\n",
      "  [10. 10.]]\n",
      "\n",
      " [[10. 10.]\n",
      "  [10. 10.]\n",
      "  [10. 10.]]\n",
      "\n",
      " [[10. 10.]\n",
      "  [10. 10.]\n",
      "  [10. 10.]]\n",
      "\n",
      " [[10. 10.]\n",
      "  [10. 10.]\n",
      "  [10. 10.]]]\n"
     ]
    }
   ],
   "source": [
    "# Zeros and Ones and Empty\n",
    "\n",
    "arr = np.arange(1, 12, 2)\n",
    "print(f'type arr is {type(arr)}')\n",
    "print(f'arr is\\n{arr}')\n",
    "\n",
    "arr_zeros = np.zeros((5))\n",
    "print(f'arr zeros is\\n{arr_zeros}')\n",
    "\n",
    "arr_zeros_int = np.zeros((5), dtype=int)\n",
    "print(f'arr zeros int is\\n{arr_zeros_int}')\n",
    "\n",
    "arr_zeros_like = np.zeros_like(arr)\n",
    "print(f'arr zeros like {arr} is\\n{arr_zeros_like}')\n",
    "\n",
    "arr_full = np.full((5), 10)\n",
    "print(f'arr full is\\n{arr_full}')\n",
    "\n",
    "arr_full_3d = np.full((4, 3, 2), 10)\n",
    "print(f'arr full 3d is\\n{arr_full_3d}')\n",
    "\n",
    "arr_full_3d_dumb = np.ones((4, 3, 2)) * 10\n",
    "print(f'arr full 3d dumb is\\n{arr_full_3d_dumb}')"
   ]
  },
  {
   "cell_type": "code",
   "execution_count": 27,
   "metadata": {},
   "outputs": [
    {
     "name": "stdout",
     "output_type": "stream",
     "text": [
      "pause\n"
     ]
    }
   ],
   "source": [
    "arr2 = np.empty(())\n",
    "\n",
    "print('pause')"
   ]
  },
  {
   "cell_type": "markdown",
   "metadata": {},
   "source": [
    "### Interval\n",
    "\n",
    "- closed, closed interval [a, b]\n",
    "    contain a, b\n",
    "    \n",
    "- closed, open interval (a, b)\n",
    "\n",
    "- closed, half-open interval [a, b) √\n",
    "\n",
    "- closed, half-open interval (a, b)\n",
    "\n",
    "\n",
    "[a:] a to end\n",
    "\n",
    "[:b] start to b\n",
    "\n",
    "[:] all\n",
    "\n"
   ]
  }
 ],
 "metadata": {
  "kernelspec": {
   "display_name": "Python 3.10.4 ('my3104')",
   "language": "python",
   "name": "python3"
  },
  "language_info": {
   "codemirror_mode": {
    "name": "ipython",
    "version": 3
   },
   "file_extension": ".py",
   "mimetype": "text/x-python",
   "name": "python",
   "nbconvert_exporter": "python",
   "pygments_lexer": "ipython3",
   "version": "3.10.4"
  },
  "orig_nbformat": 4,
  "vscode": {
   "interpreter": {
    "hash": "d60a60df41804041156749964ad182373a1ea9f03165322dcfcbbe937705ae63"
   }
  }
 },
 "nbformat": 4,
 "nbformat_minor": 2
}
