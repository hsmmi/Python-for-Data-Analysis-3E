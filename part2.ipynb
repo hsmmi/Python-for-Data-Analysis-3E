{
 "cells": [
  {
   "cell_type": "markdown",
   "metadata": {},
   "source": [
    "# <center>Python for Data Analysis_ Data Wrangling w - Wes McKinney </center>\n",
    "\n",
    "## 2 Python Language Basics, IPython, and Jupyter Notebooks\n",
    "\n",
    "<script type=\"text/x-mathjax-config\">\n",
    "MathJax.Hub.Config({\n",
    "tex2jax: {\n",
    "inlineMath: [['$','$'], ['\\\\(','\\\\)']],\n",
    "processEscapes: true},\n",
    "jax: [\"input/TeX\",\"input/MathML\",\"input/AsciiMath\",\"output/CommonHTML\"],\n",
    "extensions: [\"tex2jax.js\",\"mml2jax.js\",\"asciimath2jax.js\",\"MathMenu.js\",\"MathZoom.js\",\"AssistiveMML.js\", \"[Contrib]/a11y/accessibility-menu.js\"],\n",
    "TeX: {\n",
    "extensions: [\"AMSmath.js\",\"AMSsymbols.js\",\"noErrors.js\",\"noUndefined.js\"],\n",
    "equationNumbers: {\n",
    "autoNumber: \"AMS\"\n",
    "}\n",
    "}\n",
    "});\n",
    "</script>"
   ]
  },
  {
   "cell_type": "markdown",
   "metadata": {},
   "source": [
    "## 2.1 The Python Interpreter\n",
    "\n",
    "Python is an *interpreted* language. The Python interpreter runs a program by executing one statement at a time.\n",
    "\n",
    "Those doing data analysis or scientific computing make use of IPython, an enhanced Python interpreter, or Jupyter notebooks, web-based code notebooks originally created within the IPython project."
   ]
  },
  {
   "cell_type": "markdown",
   "metadata": {},
   "source": [
    "## 2.2 IPython Basics\n",
    "\n",
    "When you use the %run command, IPython executes the code in the specified file in the same process, enabling you to explore the results interactively when it’s done.\n",
    "\n",
    "You can launch the IPython shell on the command line just like launching the regular Python interpreter except with the ipython command."
   ]
  },
  {
   "cell_type": "code",
   "execution_count": 3,
   "metadata": {},
   "outputs": [
    {
     "data": {
      "text/plain": [
       "[0.4230169152780038,\n",
       " 2.0398973985333484,\n",
       " 0.6237127270599435,\n",
       " -0.12162753178744151,\n",
       " -2.709776867223566,\n",
       " 1.1032185025605785,\n",
       " -0.5367303231038988]"
      ]
     },
     "execution_count": 3,
     "metadata": {},
     "output_type": "execute_result"
    }
   ],
   "source": [
    "import numpy as np\n",
    "\n",
    "data = [np.random.standard_normal() for i in range(7)]\n",
    "data\n"
   ]
  },
  {
   "cell_type": "markdown",
   "metadata": {},
   "source": [
    "The first two lines are Python code statements; the second statement creates a variable named data that refers to a newly created Python dictionary. The last line prints the value of data in the console.\n"
   ]
  },
  {
   "cell_type": "markdown",
   "metadata": {},
   "source": [
    "The first two lines are Python code statements; the second statement creates a variable named data that refers to a newly created Python dictionary. The last line prints the value of data in the console.\n"
   ]
  },
  {
   "cell_type": "markdown",
   "metadata": {},
   "source": [
    "### Jupyter Notebooks\n",
    "\n",
    "[Jupyter Notebooks in VS Code](https://code.visualstudio.com/docs/datascience/jupyter-notebooks)\n",
    "\n",
    "One of the major components of the Jupyter project is the notebook, a type of interactive document for code, text (including Markdown), data visualizations, and other output. The Jupyter notebook interacts with kernels, which are implementations of the Jupyter interactive computing protocol specific to different programming languages. The Python Jupyter kernel uses the IPython system for its underlying behavior.\n",
    "\n",
    "a file with the extension *.ipynb*. This is a self-contained file format that contains all of the content (including any evaluated code output) currently in the notebook."
   ]
  },
  {
   "cell_type": "markdown",
   "metadata": {},
   "source": [
    "### Tab Completion\n",
    "\n",
    "On the surface, the IPython shell looks like a cosmetically different version of the standard terminal Python interpreter (invoked with python). One of the major improvements over the standard Python shell is tab completion, found in many IDEs or other interactive computing analysis environments. While entering expressions in the shell, pressing the Tab key will search the namespace for any variables (objects, functions, etc.)"
   ]
  },
  {
   "cell_type": "code",
   "execution_count": null,
   "metadata": {},
   "outputs": [],
   "source": [
    "an_apple = 27\n",
    "an_example = 42\n",
    "# an<TAB>"
   ]
  },
  {
   "cell_type": "code",
   "execution_count": null,
   "metadata": {},
   "outputs": [],
   "source": [
    "b = [1, 2, 3]\n",
    "# b.<Tab>"
   ]
  },
  {
   "cell_type": "code",
   "execution_count": null,
   "metadata": {},
   "outputs": [],
   "source": [
    "# Tab completion works for modules.\n",
    "\n",
    "import datetime\n",
    "# datetime.<Tab>"
   ]
  },
  {
   "cell_type": "markdown",
   "metadata": {},
   "source": [
    "### Introspection\n",
    "\n",
    "Using a question mark (?) before or after a variable will display some general information about the object.\n",
    "\n",
    "Using a question mark (?) before or after a variable will display some general information about the object"
   ]
  },
  {
   "cell_type": "code",
   "execution_count": 1,
   "metadata": {},
   "outputs": [
    {
     "name": "stdout",
     "output_type": "stream",
     "text": [
      "\u001b[0;31mType:\u001b[0m        list\n",
      "\u001b[0;31mString form:\u001b[0m [1, 2, 3]\n",
      "\u001b[0;31mLength:\u001b[0m      3\n",
      "\u001b[0;31mDocstring:\u001b[0m  \n",
      "Built-in mutable sequence.\n",
      "\n",
      "If no argument is given, the constructor creates a new empty list.\n",
      "The argument must be an iterable if specified.\n"
     ]
    }
   ],
   "source": [
    "b = [1, 2, 3]\n",
    "b?"
   ]
  },
  {
   "cell_type": "markdown",
   "metadata": {},
   "source": [
    "## 2.3 Python Language Basics"
   ]
  },
  {
   "cell_type": "markdown",
   "metadata": {},
   "source": [
    "### Language Semantics\n",
    "\n",
    "The Python language design is distinguished by its emphasis on readability, simplicity, and explicitness. Some people go so far as to liken it to “executable pseudocode."
   ]
  },
  {
   "cell_type": "markdown",
   "metadata": {},
   "source": [
    "### Indentation, not braces\n",
    "\n",
    "Python uses whitespace (tabs or spaces) to structure code instead of using braces.\n",
    "\n",
    "All of the code must be indented by the same amount until the end of the block."
   ]
  },
  {
   "cell_type": "markdown",
   "metadata": {},
   "source": [
    "### Semicolons\n",
    "\n",
    "Python statements do not need to be terminated by semicolons. Semicolons can be used, however, to separate multiple statements on a single line:\n",
    "\n",
    "```python\n",
    "a = 5; b = 6; c = 7\n",
    "```"
   ]
  },
  {
   "cell_type": "markdown",
   "metadata": {},
   "source": [
    "### Everything is an object\n",
    "\n",
    "An important characteristic of the Python language is the consistency of its object model. Every number, string, data structure, function, class, module, and so on exists in the Python interpreter in its own “box,” which is referred to as a Python object. Each object has an associated type (e.g., integer, string, or function) and internal data"
   ]
  },
  {
   "cell_type": "markdown",
   "metadata": {},
   "source": [
    "### Comments\n",
    "\n",
    "Any text preceded by the hash mark (pound sign) # is ignored by the Python interpreter. This is often used to add comments to code. At times you may also want to exclude certain blocks of code without deleting them. One solution is to comment out the code:\n",
    "\n",
    "    \n",
    "```python\n",
    "results = []\n",
    "for line in file_handle:\n",
    "    # keep the empty lines for now\n",
    "    # if len(line) == 0:\n",
    "    #   continue\n",
    "    results.append(line.replace(\"foo\", \"bar\"))\n",
    "```\n",
    "\n",
    "```python\n",
    "print(\"Reached this line\")  # Simple status report\n",
    "```"
   ]
  },
  {
   "cell_type": "markdown",
   "metadata": {},
   "source": [
    "### Function and object method calls\n",
    "\n",
    "You call functions using parentheses and passing zero or more arguments, optionally assigning the returned value to a variable:\n",
    "\n",
    "```python\n",
    "result = f(x, y, z)\n",
    "g()\n",
    "```\n",
    "\n",
    "Almost every object in Python has attached functions, known as methods, that have access to the object’s internal contents. You can call them using the following syntax:\n",
    "\n",
    "```python\n",
    "obj.some_method(x, y, z)\n",
    "```\n",
    "\n",
    "Functions can take both positional and keyword arguments:\n",
    "\n",
    "```python\n",
    "result = f(a, b, c, d=5, e=\"foo\")\n",
    "```"
   ]
  },
  {
   "cell_type": "markdown",
   "metadata": {},
   "source": [
    "### Variables and argument passing\\\n",
    "\n",
    "When assigning a variable (or name) in Python, you are creating a reference to the object shown on the righthand side of the equals sign. In practical terms, consider a list of integers:\n",
    "\n",
    "```python\n",
    "In [8]: a = [1, 2, 3]\n",
    "```\n",
    "\n",
    "Suppose we assign a to a new variable b:\n",
    "\n",
    "```python\n",
    "In [9]: b = a\n",
    "\n",
    "In [10]: b\n",
    "Out[10]: [1, 2, 3]\n",
    "```\n",
    "\n",
    "In some languages, the assignment if b will cause the data [1, 2, 3] to be copied. In Python, a and b actually now refer to the same object.\n",
    "\n",
    "When you **pass** objects as **arguments** to a **function**, new local variables are created **referencing** the original objects **without any copying**. If you bind a **new object** to a variable inside a function, that will **not overwrite** a variable of the same name in the \"scope\" **outside** of the function (the \"parent scope\").\n",
    "\n",
    "```python\n",
    "In [13]: def append_element(some_list, element):\n",
    "   ....:     some_list.append(element)\n",
    "\n",
    "In [14]: data = [1, 2, 3]\n",
    "\n",
    "In [15]: append_element(data, 4)\n",
    "\n",
    "In [16]: data\n",
    "Out[16]: [1, 2, 3, 4]\n",
    "```"
   ]
  }
 ],
 "metadata": {
  "kernelspec": {
   "display_name": "Python 3.10.4 ('my3104')",
   "language": "python",
   "name": "python3"
  },
  "language_info": {
   "codemirror_mode": {
    "name": "ipython",
    "version": 3
   },
   "file_extension": ".py",
   "mimetype": "text/x-python",
   "name": "python",
   "nbconvert_exporter": "python",
   "pygments_lexer": "ipython3",
   "version": "3.10.4"
  },
  "orig_nbformat": 4,
  "vscode": {
   "interpreter": {
    "hash": "d60a60df41804041156749964ad182373a1ea9f03165322dcfcbbe937705ae63"
   }
  }
 },
 "nbformat": 4,
 "nbformat_minor": 2
}
