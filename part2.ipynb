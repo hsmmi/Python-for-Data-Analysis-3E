{
 "cells": [
  {
   "cell_type": "markdown",
   "metadata": {},
   "source": [
    "# <center>Python for Data Analysis_ Data Wrangling w - Wes McKinney </center>\n",
    "\n",
    "## 2 Python Language Basics, IPython, and Jupyter Notebooks\n",
    "\n",
    "<script type=\"text/x-mathjax-config\">\n",
    "MathJax.Hub.Config({\n",
    "tex2jax: {\n",
    "inlineMath: [['$','$'], ['\\\\(','\\\\)']],\n",
    "processEscapes: true},\n",
    "jax: [\"input/TeX\",\"input/MathML\",\"input/AsciiMath\",\"output/CommonHTML\"],\n",
    "extensions: [\"tex2jax.js\",\"mml2jax.js\",\"asciimath2jax.js\",\"MathMenu.js\",\"MathZoom.js\",\"AssistiveMML.js\", \"[Contrib]/a11y/accessibility-menu.js\"],\n",
    "TeX: {\n",
    "extensions: [\"AMSmath.js\",\"AMSsymbols.js\",\"noErrors.js\",\"noUndefined.js\"],\n",
    "equationNumbers: {\n",
    "autoNumber: \"AMS\"\n",
    "}\n",
    "}\n",
    "});\n",
    "</script>"
   ]
  },
  {
   "cell_type": "markdown",
   "metadata": {},
   "source": [
    "## 2.1 The Python Interpreter\n",
    "\n",
    "Python is an *interpreted* language. The Python interpreter runs a program by executing one statement at a time.\n",
    "\n",
    "Those doing data analysis or scientific computing make use of IPython, an enhanced Python interpreter, or Jupyter notebooks, web-based code notebooks originally created within the IPython project."
   ]
  },
  {
   "cell_type": "markdown",
   "metadata": {},
   "source": [
    "## 2.2 IPython Basics\n",
    "\n",
    "When you use the %run command, IPython executes the code in the specified file in the same process, enabling you to explore the results interactively when it’s done.\n",
    "\n",
    "You can launch the IPython shell on the command line just like launching the regular Python interpreter except with the ipython command."
   ]
  },
  {
   "cell_type": "code",
   "execution_count": 3,
   "metadata": {},
   "outputs": [
    {
     "data": {
      "text/plain": [
       "[0.4230169152780038,\n",
       " 2.0398973985333484,\n",
       " 0.6237127270599435,\n",
       " -0.12162753178744151,\n",
       " -2.709776867223566,\n",
       " 1.1032185025605785,\n",
       " -0.5367303231038988]"
      ]
     },
     "execution_count": 3,
     "metadata": {},
     "output_type": "execute_result"
    }
   ],
   "source": [
    "import numpy as np\n",
    "\n",
    "data = [np.random.standard_normal() for i in range(7)]\n",
    "data\n"
   ]
  },
  {
   "cell_type": "markdown",
   "metadata": {},
   "source": [
    "The first two lines are Python code statements; the second statement creates a variable named data that refers to a newly created Python dictionary. The last line prints the value of data in the console.\n"
   ]
  },
  {
   "cell_type": "markdown",
   "metadata": {},
   "source": [
    "The first two lines are Python code statements; the second statement creates a variable named data that refers to a newly created Python dictionary. The last line prints the value of data in the console.\n"
   ]
  },
  {
   "cell_type": "markdown",
   "metadata": {},
   "source": [
    "### Jupyter Notebooks\n",
    "\n",
    "[Jupyter Notebooks in VS Code](https://code.visualstudio.com/docs/datascience/jupyter-notebooks)\n",
    "\n",
    "One of the major components of the Jupyter project is the notebook, a type of interactive document for code, text (including Markdown), data visualizations, and other output. The Jupyter notebook interacts with kernels, which are implementations of the Jupyter interactive computing protocol specific to different programming languages. The Python Jupyter kernel uses the IPython system for its underlying behavior.\n",
    "\n",
    "a file with the extension *.ipynb*. This is a self-contained file format that contains all of the content (including any evaluated code output) currently in the notebook."
   ]
  },
  {
   "cell_type": "markdown",
   "metadata": {},
   "source": [
    "### Tab Completion\n",
    "\n",
    "On the surface, the IPython shell looks like a cosmetically different version of the standard terminal Python interpreter (invoked with python). One of the major improvements over the standard Python shell is tab completion, found in many IDEs or other interactive computing analysis environments. While entering expressions in the shell, pressing the Tab key will search the namespace for any variables (objects, functions, etc.)"
   ]
  },
  {
   "cell_type": "code",
   "execution_count": null,
   "metadata": {},
   "outputs": [],
   "source": [
    "an_apple = 27\n",
    "an_example = 42\n",
    "\n",
    "# an<TAB>"
   ]
  },
  {
   "cell_type": "code",
   "execution_count": null,
   "metadata": {},
   "outputs": [],
   "source": [
    "b = [1, 2, 3]\n",
    "# b.<Tab>"
   ]
  },
  {
   "cell_type": "code",
   "execution_count": null,
   "metadata": {},
   "outputs": [],
   "source": [
    "# Tab completion works for modules.\n",
    "\n",
    "import datetime\n",
    "# datetime.<Tab>"
   ]
  },
  {
   "cell_type": "markdown",
   "metadata": {},
   "source": [
    "### Introspection\n",
    "\n",
    "Using a question mark (?) before or after a variable will display some general information about the object.\n",
    "\n",
    "Using a question mark (?) before or after a variable will display some general information about the object"
   ]
  },
  {
   "cell_type": "code",
   "execution_count": 7,
   "metadata": {},
   "outputs": [
    {
     "name": "stdout",
     "output_type": "stream",
     "text": [
      "\u001b[0;31mType:\u001b[0m        list\n",
      "\u001b[0;31mString form:\u001b[0m [1, 2, 3]\n",
      "\u001b[0;31mLength:\u001b[0m      3\n",
      "\u001b[0;31mDocstring:\u001b[0m  \n",
      "Built-in mutable sequence.\n",
      "\n",
      "If no argument is given, the constructor creates a new empty list.\n",
      "The argument must be an iterable if specified.\n"
     ]
    }
   ],
   "source": [
    "b = [1, 2, 3]\n",
    "b?"
   ]
  },
  {
   "cell_type": "markdown",
   "metadata": {},
   "source": [
    "## 2.3 Python Language Basics"
   ]
  },
  {
   "cell_type": "markdown",
   "metadata": {},
   "source": [
    "### Language Semantics\n",
    "\n",
    "The Python language design is distinguished by its emphasis on readability, simplicity, and explicitness. Some people go so far as to liken it to “executable pseudocode."
   ]
  },
  {
   "cell_type": "markdown",
   "metadata": {},
   "source": [
    "### Indentation, not braces\n",
    "\n",
    "Python uses whitespace (tabs or spaces) to structure code instead of using braces.\n",
    "\n",
    "All of the code must be indented by the same amount until the end of the block."
   ]
  },
  {
   "cell_type": "markdown",
   "metadata": {},
   "source": [
    "### Semicolons\n",
    "\n",
    "Python statements do not need to be terminated by semicolons. Semicolons can be used, however, to separate multiple statements on a single line:\n",
    "\n",
    "```python\n",
    "a = 5; b = 6; c = 7\n",
    "```"
   ]
  },
  {
   "cell_type": "markdown",
   "metadata": {},
   "source": [
    "### Everything is an object\n",
    "\n",
    "An important characteristic of the Python language is the consistency of its object model. Every number, string, data structure, function, class, module, and so on exists in the Python interpreter in its own “box,” which is referred to as a Python object. Each object has an associated type (e.g., integer, string, or function) and internal data"
   ]
  },
  {
   "cell_type": "markdown",
   "metadata": {},
   "source": [
    "### Comments\n",
    "\n",
    "Any text preceded by the hash mark (pound sign) # is ignored by the Python interpreter. This is often used to add comments to code. At times you may also want to exclude certain blocks of code without deleting them. One solution is to comment out the code:\n",
    "\n",
    "    \n",
    "```python\n",
    "results = []\n",
    "for line in file_handle:\n",
    "    # keep the empty lines for now\n",
    "    # if len(line) == 0:\n",
    "    #   continue\n",
    "    results.append(line.replace(\"foo\", \"bar\"))\n",
    "```\n",
    "\n",
    "```python\n",
    "print(\"Reached this line\")  # Simple status report\n",
    "```"
   ]
  },
  {
   "cell_type": "markdown",
   "metadata": {},
   "source": [
    "### Function and object method calls\n",
    "\n",
    "You call functions using parentheses and passing zero or more arguments, optionally assigning the returned value to a variable:\n",
    "\n",
    "```python\n",
    "result = f(x, y, z)\n",
    "g()\n",
    "```\n",
    "\n",
    "Almost every object in Python has attached functions, known as methods, that have access to the object’s internal contents. You can call them using the following syntax:\n",
    "\n",
    "```python\n",
    "obj.some_method(x, y, z)\n",
    "```\n",
    "\n",
    "Functions can take both positional and keyword arguments:\n",
    "\n",
    "```python\n",
    "result = f(a, b, c, d=5, e=\"foo\")\n",
    "```"
   ]
  },
  {
   "cell_type": "code",
   "execution_count": 2,
   "metadata": {},
   "outputs": [
    {
     "name": "stdout",
     "output_type": "stream",
     "text": [
      "15\n"
     ]
    }
   ],
   "source": [
    "def sum(a, b, c, d, e):\n",
    "    return a + b + c + d + e\n",
    "\n",
    "a, b, c = 1, 2, 3\n",
    "\n",
    "print(sum(b, a, c, e=5, d=4))"
   ]
  },
  {
   "cell_type": "markdown",
   "metadata": {},
   "source": [
    "### Variables and argument passing\n",
    "\n",
    "When assigning a variable (or name) in Python, you are creating a reference to the object shown on the righthand side of the equals sign. In practical terms, consider a list of integers:\n",
    "\n",
    "```python\n",
    "In [8]: a = [1, 2, 3]\n",
    "```\n",
    "\n",
    "Suppose we assign a to a new variable b:\n",
    "\n",
    "```python\n",
    "In [9]: b = a\n",
    "\n",
    "In [10]: b\n",
    "Out[10]: [1, 2, 3]\n",
    "```"
   ]
  },
  {
   "cell_type": "code",
   "execution_count": 3,
   "metadata": {},
   "outputs": [
    {
     "data": {
      "text/plain": [
       "[1, 2, 3, 4]"
      ]
     },
     "execution_count": 3,
     "metadata": {},
     "output_type": "execute_result"
    }
   ],
   "source": [
    "a = [1, 2, 3]\n",
    "b = a\n",
    "a.append(4)\n",
    "b"
   ]
  },
  {
   "cell_type": "markdown",
   "metadata": {},
   "source": [
    "In some languages, the assignment if b will cause the data [1, 2, 3] to be copied. In Python, a and b actually now refer to the **same object**.\n",
    "\n",
    "When you **pass** objects as **arguments** to a **function**, new local variables are created **referencing** the original objects **without any copying**. If you bind a **new object** to a variable inside a function, that will **not overwrite** a variable of the same name in the \"scope\" **outside** of the function (the \"parent scope\").\n",
    "\n",
    "```python\n",
    "In [13]: def append_element(some_list, element):\n",
    "   ....:     some_list.append(element)\n",
    "\n",
    "In [14]: data = [1, 2, 3]\n",
    "\n",
    "In [15]: append_element(data, 4)\n",
    "\n",
    "In [16]: data\n",
    "Out[16]: [1, 2, 3, 4]\n",
    "```"
   ]
  },
  {
   "cell_type": "code",
   "execution_count": 6,
   "metadata": {},
   "outputs": [
    {
     "name": "stdout",
     "output_type": "stream",
     "text": [
      "[1, 2, 3, 4]\n",
      "[1, 2, 3]\n"
     ]
    }
   ],
   "source": [
    "def append(a, b):\n",
    "    a.append(b)\n",
    "\n",
    "def append_2(a, b):\n",
    "    c = a.copy()\n",
    "    c.append(b)\n",
    "\n",
    "first = [1, 2, 3]\n",
    "append(first, 4)\n",
    "\n",
    "second = [1, 2, 3]\n",
    "append_2(second, 4)\n",
    "\n",
    "print(first)\n",
    "print(second)"
   ]
  },
  {
   "cell_type": "markdown",
   "metadata": {},
   "source": [
    "### Dynamic references, strong types\n",
    "\n",
    "Variables in Python have no inherent type associated with them; a variable can refer to a different type of object simply by doing an assignment."
   ]
  },
  {
   "cell_type": "code",
   "execution_count": 10,
   "metadata": {},
   "outputs": [
    {
     "name": "stdout",
     "output_type": "stream",
     "text": [
      "Type a is <class 'int'>\n",
      "Type a is <class 'str'>\n",
      "Value of a is 55\n"
     ]
    },
    {
     "ename": "TypeError",
     "evalue": "can only concatenate str (not \"int\") to str",
     "output_type": "error",
     "traceback": [
      "\u001b[0;31m---------------------------------------------------------------------------\u001b[0m",
      "\u001b[0;31mTypeError\u001b[0m                                 Traceback (most recent call last)",
      "\u001b[1;32m/Users/hesoyam/Documents/code/git/mine/teaching/Python-for-Data-Analysis-3E/part2.ipynb Cell 27'\u001b[0m in \u001b[0;36m<cell line: 11>\u001b[0;34m()\u001b[0m\n\u001b[1;32m      <a href='vscode-notebook-cell:/Users/hesoyam/Documents/code/git/mine/teaching/Python-for-Data-Analysis-3E/part2.ipynb#ch0000029?line=7'>8</a>\u001b[0m \u001b[39mprint\u001b[39m(\u001b[39mf\u001b[39m\u001b[39m'\u001b[39m\u001b[39mValue of a is \u001b[39m\u001b[39m{\u001b[39;00ma\u001b[39m}\u001b[39;00m\u001b[39m'\u001b[39m)\n\u001b[1;32m     <a href='vscode-notebook-cell:/Users/hesoyam/Documents/code/git/mine/teaching/Python-for-Data-Analysis-3E/part2.ipynb#ch0000029?line=9'>10</a>\u001b[0m \u001b[39m# Error: TypeError: unsupported operand type(s) for +: 'int' and 'str'\u001b[39;00m\n\u001b[0;32m---> <a href='vscode-notebook-cell:/Users/hesoyam/Documents/code/git/mine/teaching/Python-for-Data-Analysis-3E/part2.ipynb#ch0000029?line=10'>11</a>\u001b[0m a \u001b[39m=\u001b[39m a \u001b[39m+\u001b[39;49m \u001b[39m5\u001b[39;49m\n",
      "\u001b[0;31mTypeError\u001b[0m: can only concatenate str (not \"int\") to str"
     ]
    }
   ],
   "source": [
    "a = 5\n",
    "print('Type a is {}'.format(type(a)))\n",
    "\n",
    "a = '5'\n",
    "print(f'Type a is {type(a)}')\n",
    "\n",
    "a = a + '5'\n",
    "print(f'Value of a is {a}')\n",
    "\n",
    "# Error: TypeError: unsupported operand type(s) for +: 'int' and 'str'\n",
    "a = a + 5\n"
   ]
  },
  {
   "cell_type": "markdown",
   "metadata": {},
   "source": [
    "Knowing the type of an object is important, and it’s useful to be able to write functions that can handle many different kinds of input. You can check that an object is an instance of a particular type using the isinstance function:\n",
    "\n",
    "``` python\n",
    "In [26]: a = 5\n",
    "\n",
    "In [27]: isinstance(a, int)\n",
    "Out[27]: True\n",
    "```"
   ]
  },
  {
   "cell_type": "code",
   "execution_count": 2,
   "metadata": {},
   "outputs": [
    {
     "name": "stdout",
     "output_type": "stream",
     "text": [
      "Value of a is [5, 5] and it's type is <class 'list'>\n",
      "Value of a is 5 and it's type is <class 'int'>\n",
      "Value of a is 5 and it's type is <class 'int'>\n"
     ]
    }
   ],
   "source": [
    "a = ['5', 5.5]\n",
    "def list_int(a):\n",
    "    for i in range(len(a)):\n",
    "        if(isinstance(a[i], int) is not True):\n",
    "            a[i] = int(a[i])\n",
    "    return a\n",
    "\n",
    "list_int(a)\n",
    "print(f'Value of a is {a} and it\\'s type is {type(a)}')\n",
    "\n",
    "def to_int(a):\n",
    "    if(isinstance(a, int) is not True):\n",
    "        a = int(a)\n",
    "    return a\n",
    "\n",
    "\n",
    "a = '5'\n",
    "a = to_int(a)\n",
    "print(f'Value of a is {a} and it\\'s type is {type(a)}')\n",
    "\n",
    "a = 5.5\n",
    "a = to_int(a)\n",
    "print(f'Value of a is {a} and it\\'s type is {type(a)}')"
   ]
  },
  {
   "cell_type": "markdown",
   "metadata": {},
   "source": [
    "### is ans is not in if when comparing to True and False\n",
    "\n",
    "``` python\n",
    "a = 1\n",
    "b = 2\n",
    "c = True\n",
    "\n",
    "if c is True:\n",
    "    print(a)\n",
    "    print(b)\n",
    "    print(c)\n",
    "\n",
    "if c is not True:\n",
    "    print(a)\n",
    "    print(b)\n",
    "    print(c)\n",
    "```"
   ]
  },
  {
   "cell_type": "markdown",
   "metadata": {},
   "source": [
    "### Attributes and methods\n",
    "\n",
    "Objects in Python typically have both attributes (other Python objects stored “inside” the object) and methods (functions associated with an object that can have access to the o"
   ]
  },
  {
   "cell_type": "code",
   "execution_count": null,
   "metadata": {},
   "outputs": [],
   "source": [
    "class DS:\n",
    "    def __init__(self):\n",
    "        self.a = None\n",
    "        self.b = np\n",
    "    \n",
    "\n",
    "class myClass:\n",
    "    def __init__(self, a):\n",
    "        self.a = a\n",
    "        self.list = [1, 2, 3]\n",
    "        self.data = DS()\n",
    "        self.data.a = a\n",
    "\n",
    "    def get_a(self):\n",
    "        return self.a\n",
    "    def set_a(self, a):\n",
    "        self.a = a\n",
    "    def __str__(self):\n",
    "        return str(self.a)\n",
    "    def __repr__(self):\n",
    "        return str(self.a)"
   ]
  }
 ],
 "metadata": {
  "kernelspec": {
   "display_name": "Python 3.10.4 ('my3104')",
   "language": "python",
   "name": "python3"
  },
  "language_info": {
   "codemirror_mode": {
    "name": "ipython",
    "version": 3
   },
   "file_extension": ".py",
   "mimetype": "text/x-python",
   "name": "python",
   "nbconvert_exporter": "python",
   "pygments_lexer": "ipython3",
   "version": "3.10.4"
  },
  "orig_nbformat": 4,
  "vscode": {
   "interpreter": {
    "hash": "d60a60df41804041156749964ad182373a1ea9f03165322dcfcbbe937705ae63"
   }
  }
 },
 "nbformat": 4,
 "nbformat_minor": 2
}
